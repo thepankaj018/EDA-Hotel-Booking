{
  "nbformat": 4,
  "nbformat_minor": 0,
  "metadata": {
    "colab": {
      "private_outputs": true,
      "provenance": [],
      "collapsed_sections": [
        "vncDsAP0Gaoa",
        "FJNUwmbgGyua",
        "w6K7xa23Elo4",
        "yQaldy8SH6Dl",
        "PH-0ReGfmX4f",
        "mDgbUHAGgjLW",
        "O_i_v8NEhb9l",
        "HhfV-JJviCcP",
        "Y3lxredqlCYt",
        "3RnN4peoiCZX",
        "x71ZqKXriCWQ",
        "7hBIi_osiCS2",
        "JlHwYmJAmNHm",
        "35m5QtbWiB9F",
        "PoPl-ycgm1ru",
        "H0kj-8xxnORC",
        "nA9Y7ga8ng1Z",
        "PBTbrJXOngz2",
        "u3PMJOP6ngxN",
        "dauF4eBmngu3",
        "bKJF3rekwFvQ",
        "MSa1f5Uengrz",
        "GF8Ens_Soomf",
        "0wOQAZs5pc--",
        "K5QZ13OEpz2H",
        "lQ7QKXXCp7Bj",
        "448CDAPjqfQr",
        "KSlN3yHqYklG",
        "t6dVpIINYklI",
        "ijmpgYnKYklI",
        "-JiQyfWJYklI",
        "EM7whBJCYoAo",
        "fge-S5ZAYoAp",
        "85gYPyotYoAp",
        "RoGjAbkUYoAp",
        "4Of9eVA-YrdM",
        "iky9q4vBYrdO",
        "F6T5p64dYrdO",
        "y-Ehk30pYrdP",
        "bamQiAODYuh1",
        "QHF8YVU7Yuh3",
        "GwzvFGzlYuh3",
        "qYpmQ266Yuh3",
        "OH-pJp9IphqM",
        "bbFf2-_FphqN",
        "_ouA3fa0phqN",
        "Seke61FWphqN",
        "PIIx-8_IphqN",
        "t27r6nlMphqO",
        "r2jJGEOYphqO",
        "b0JNsNcRphqO",
        "BZR9WyysphqO",
        "jj7wYXLtphqO",
        "eZrbJ2SmphqO",
        "rFu4xreNphqO",
        "YJ55k-q6phqO",
        "gCFgpxoyphqP",
        "OVtJsKN_phqQ",
        "lssrdh5qphqQ",
        "U2RJ9gkRphqQ",
        "1M8mcRywphqQ",
        "tgIPom80phqQ",
        "JMzcOPDDphqR",
        "x-EpHcCOp1ci",
        "X_VqEhTip1ck",
        "8zGJKyg5p1ck",
        "PVzmfK_Ep1ck",
        "n3dbpmDWp1ck",
        "ylSl6qgtp1ck",
        "ZWILFDl5p1ck",
        "M7G43BXep1ck",
        "Ag9LCva-p1cl",
        "E6MkPsBcp1cl",
        "2cELzS2fp1cl",
        "3MPXvC8up1cl",
        "NC_X3p0fY2L0",
        "UV0SzAkaZNRQ",
        "YPEH6qLeZNRQ",
        "q29F0dvdveiT",
        "EXh0U9oCveiU",
        "22aHeOlLveiV",
        "JcMwzZxoAimU",
        "8G2x9gOozGDZ",
        "gCX9965dhzqZ",
        "gIfDvo9L0UH2"
      ],
      "include_colab_link": true
    },
    "kernelspec": {
      "name": "python3",
      "display_name": "Python 3"
    },
    "language_info": {
      "name": "python"
    }
  },
  "cells": [
    {
      "cell_type": "markdown",
      "metadata": {
        "id": "view-in-github",
        "colab_type": "text"
      },
      "source": [
        "<a href=\"https://colab.research.google.com/github/thepankaj018/EDA-Hotel-Booking/blob/main/EDA_Hotel_Booking.ipynb\" target=\"_parent\"><img src=\"https://colab.research.google.com/assets/colab-badge.svg\" alt=\"Open In Colab\"/></a>"
      ]
    },
    {
      "cell_type": "markdown",
      "source": [
        "# **Project Name**    - Hotel Booking Analysis\n",
        "\n"
      ],
      "metadata": {
        "id": "vncDsAP0Gaoa"
      }
    },
    {
      "cell_type": "markdown",
      "source": [
        "##### **Project Type**    - EDA\n",
        "##### **Contribution**    - Individual\n"
      ],
      "metadata": {
        "id": "beRrZCGUAJYm"
      }
    },
    {
      "cell_type": "markdown",
      "source": [
        "# **Project Summary -**"
      ],
      "metadata": {
        "id": "FJNUwmbgGyua"
      }
    },
    {
      "cell_type": "markdown",
      "source": [
        "Write the summary here within 500-600 words."
      ],
      "metadata": {
        "id": "F6v_1wHtG2nS"
      }
    },
    {
      "cell_type": "markdown",
      "source": [
        "# **GitHub Link -**"
      ],
      "metadata": {
        "id": "w6K7xa23Elo4"
      }
    },
    {
      "cell_type": "markdown",
      "source": [
        "Provide your GitHub Link here."
      ],
      "metadata": {
        "id": "h1o69JH3Eqqn"
      }
    },
    {
      "cell_type": "markdown",
      "source": [
        "# **Problem Statement**\n"
      ],
      "metadata": {
        "id": "yQaldy8SH6Dl"
      }
    },
    {
      "cell_type": "markdown",
      "source": [
        "## <b> Have you ever wondered when the best time of year to book a hotel room is? Or the optimal length of stay in order to get the best daily rate? What if you wanted to predict whether or not a hotel was likely to receive a disproportionately high number of special requests? This hotel booking dataset can help you explore those questions!\n",
        "\n",
        "## <b>This data set contains booking information for a city hotel and a resort hotel, and includes information such as when the booking was made, length of stay, the number of adults, children, and/or babies, and the number of available parking spaces, among other things. All personally identifying information has been removed from the data. </b>\n",
        "\n"
      ],
      "metadata": {
        "id": "smSOr8uR7KGn"
      }
    },
    {
      "cell_type": "markdown",
      "source": [
        "#### **Define Your Business Objective?**"
      ],
      "metadata": {
        "id": "PH-0ReGfmX4f"
      }
    },
    {
      "cell_type": "markdown",
      "source": [
        "###Explore and analyze the data to discover important factors that govern the bookings."
      ],
      "metadata": {
        "id": "PhDvGCAqmjP1"
      }
    },
    {
      "cell_type": "markdown",
      "source": [
        "# **General Guidelines** : -  "
      ],
      "metadata": {
        "id": "mDgbUHAGgjLW"
      }
    },
    {
      "cell_type": "markdown",
      "source": [
        "1.   Well-structured, formatted, and commented code is required. \n",
        "2.   Exception Handling, Production Grade Code & Deployment Ready Code will be a plus. Those students will be awarded some additional credits. \n",
        "     \n",
        "     The additional credits will have advantages over other students during Star Student selection.\n",
        "       \n",
        "             [ Note: - Deployment Ready Code is defined as, the whole .ipynb notebook should be executable in one go\n",
        "                       without a single error logged. ]\n",
        "\n",
        "3.   Each and every logic should have proper comments.\n",
        "4. You may add as many number of charts you want. Make Sure for each and every chart the following format should be answered.\n",
        "        \n",
        "\n",
        "```\n",
        "# Chart visualization code\n",
        "```\n",
        "            \n",
        "\n",
        "*   Why did you pick the specific chart?\n",
        "*   What is/are the insight(s) found from the chart?\n",
        "* Will the gained insights help creating a positive business impact? \n",
        "Are there any insights that lead to negative growth? Justify with specific reason.\n",
        "\n",
        "5. You have to create at least 20 logical & meaningful charts having important insights.\n",
        "\n",
        "\n",
        "[ Hints : - Do the Vizualization in  a structured way while following \"UBM\" Rule. \n",
        "\n",
        "U - Univariate Analysis,\n",
        "\n",
        "B - Bivariate Analysis (Numerical - Categorical, Numerical - Numerical, Categorical - Categorical)\n",
        "\n",
        "M - Multivariate Analysis\n",
        " ]\n",
        "\n",
        "\n",
        "\n"
      ],
      "metadata": {
        "id": "ZrxVaUj-hHfC"
      }
    },
    {
      "cell_type": "markdown",
      "source": [
        "# ***Let's Begin !***"
      ],
      "metadata": {
        "id": "O_i_v8NEhb9l"
      }
    },
    {
      "cell_type": "markdown",
      "source": [
        "## ***1. Know Your Data***"
      ],
      "metadata": {
        "id": "HhfV-JJviCcP"
      }
    },
    {
      "cell_type": "markdown",
      "source": [
        "### Import Libraries"
      ],
      "metadata": {
        "id": "Y3lxredqlCYt"
      }
    },
    {
      "cell_type": "code",
      "source": [
        "# Import Libraries\n",
        "import numpy as np\n",
        "import pandas as pd\n",
        "import matplotlib.pyplot as plt\n",
        "%matplotlib inline\n",
        "import seaborn as sns\n",
        "plt.style.use('fivethirtyeight')\n",
        "import warnings\n",
        "warnings.filterwarnings('ignore')\n"
      ],
      "metadata": {
        "id": "M8Vqi-pPk-HR"
      },
      "execution_count": null,
      "outputs": []
    },
    {
      "cell_type": "code",
      "source": [
        "pd.set_option('display.max_columns',None)"
      ],
      "metadata": {
        "id": "h9NMHMl7V_6E"
      },
      "execution_count": null,
      "outputs": []
    },
    {
      "cell_type": "markdown",
      "source": [
        "### Dataset Loading"
      ],
      "metadata": {
        "id": "3RnN4peoiCZX"
      }
    },
    {
      "cell_type": "code",
      "source": [
        "from google.colab import drive\n",
        "drive.mount('/content/drive')"
      ],
      "metadata": {
        "id": "CFoAgZ9oW9rM"
      },
      "execution_count": null,
      "outputs": []
    },
    {
      "cell_type": "code",
      "source": [
        "# Load Dataset\n",
        "file_path = '/content/drive/MyDrive/hotel_bookings.csv'\n",
        "df = pd.read_csv(file_path)\n"
      ],
      "metadata": {
        "id": "4CkvbW_SlZ_R"
      },
      "execution_count": null,
      "outputs": []
    },
    {
      "cell_type": "markdown",
      "source": [
        "### Dataset First View"
      ],
      "metadata": {
        "id": "x71ZqKXriCWQ"
      }
    },
    {
      "cell_type": "code",
      "source": [
        "# Dataset First Look\n",
        "df.head()"
      ],
      "metadata": {
        "id": "LWNFOSvLl09H"
      },
      "execution_count": null,
      "outputs": []
    },
    {
      "cell_type": "markdown",
      "source": [
        "### Dataset Rows & Columns count"
      ],
      "metadata": {
        "id": "7hBIi_osiCS2"
      }
    },
    {
      "cell_type": "code",
      "source": [
        "# Dataset Rows & Columns count\n",
        "print(f'Number of rows are {df.shape[0]}')\n",
        "print(f'Number of columns are {df.shape[1]}')"
      ],
      "metadata": {
        "id": "Kllu7SJgmLij"
      },
      "execution_count": null,
      "outputs": []
    },
    {
      "cell_type": "markdown",
      "source": [
        "### Dataset Information"
      ],
      "metadata": {
        "id": "JlHwYmJAmNHm"
      }
    },
    {
      "cell_type": "code",
      "source": [
        "# Dataset Info\n",
        "df.info()"
      ],
      "metadata": {
        "id": "e9hRXRi6meOf"
      },
      "execution_count": null,
      "outputs": []
    },
    {
      "cell_type": "markdown",
      "source": [
        "#### Duplicate Values"
      ],
      "metadata": {
        "id": "35m5QtbWiB9F"
      }
    },
    {
      "cell_type": "code",
      "source": [
        "# Dataset Duplicate Value Count\n",
        "print(f' Number of duplicates values in df are {df.duplicated().sum()}')"
      ],
      "metadata": {
        "id": "1sLdpKYkmox0"
      },
      "execution_count": null,
      "outputs": []
    },
    {
      "cell_type": "markdown",
      "source": [
        "#### Missing Values/Null Values"
      ],
      "metadata": {
        "id": "PoPl-ycgm1ru"
      }
    },
    {
      "cell_type": "code",
      "source": [
        "# Missing Values/Null Values Count\n",
        "df.isnull().sum()"
      ],
      "metadata": {
        "id": "GgHWkxvamxVg"
      },
      "execution_count": null,
      "outputs": []
    },
    {
      "cell_type": "code",
      "source": [
        "# Checking percent NULL Values\n",
        "(df.isnull().sum()*100/len(df)).to_frame().sort_values(by = 0,ascending = False).rename(columns = {0:'Percent NULL Values'})"
      ],
      "metadata": {
        "id": "WTbdOjw8ZRdR"
      },
      "execution_count": null,
      "outputs": []
    },
    {
      "cell_type": "code",
      "source": [
        "# Visualizing the missing values\n",
        "plt.figure(figsize=(25, 10))\n",
        "sns.heatmap(df.isnull(), cbar=False, yticklabels=False,cmap = 'plasma')\n",
        "plt.xlabel(\"Name Of Columns\")\n",
        "plt.title(\"Places of missing values in column\");"
      ],
      "metadata": {
        "id": "3q5wnI3om9sJ"
      },
      "execution_count": null,
      "outputs": []
    },
    {
      "cell_type": "markdown",
      "source": [
        "### What did you know about your dataset?"
      ],
      "metadata": {
        "id": "H0kj-8xxnORC"
      }
    },
    {
      "cell_type": "markdown",
      "source": [
        "####1.Dataset has 119390 rows & 32 columns.\n",
        "####2.Dataset has 31994 duplicates values.\n",
        "####2.Feature COMPANY has highest number of NULL Values around 94% followed by AGENT that contains around 14% NULL Values."
      ],
      "metadata": {
        "id": "gfoNAAC-nUe_"
      }
    },
    {
      "cell_type": "markdown",
      "source": [
        "## ***2. Understanding Your Variables***"
      ],
      "metadata": {
        "id": "nA9Y7ga8ng1Z"
      }
    },
    {
      "cell_type": "code",
      "source": [
        "# Dataset Columns\n",
        "df.columns"
      ],
      "metadata": {
        "id": "j7xfkqrt5Ag5"
      },
      "execution_count": null,
      "outputs": []
    },
    {
      "cell_type": "code",
      "source": [
        "# Dataset Describe\n",
        "df.describe().T.style.background_gradient(cmap='RdPu')"
      ],
      "metadata": {
        "id": "DnOaZdaE5Q5t"
      },
      "execution_count": null,
      "outputs": []
    },
    {
      "cell_type": "markdown",
      "source": [
        "### Variables Description "
      ],
      "metadata": {
        "id": "PBTbrJXOngz2"
      }
    },
    {
      "cell_type": "markdown",
      "source": [
        "\n",
        "\n",
        "1. **hotel** : *Hotel(Resort Hotel or City Hotel)* \n",
        "\n",
        "2. **is_canceled** : *Value indicating if the booking was canceled (1) or not (0)*\n",
        "\n",
        "3. **lead_time** :* Number of days that elapsed between the entering date of the booking into the PMS and the arrival date*\n",
        "\n",
        "4. **arrival_date_year** : *Year of arrival date*\n",
        "\n",
        "5. **arrival_date_month** : *Month of arrival date*\n",
        "\n",
        "6. **arrival_date_week_number** : *Week number of year for arrival date*\n",
        "\n",
        "7. **arrival_date_day_of_month** : *Day of arrival date*\n",
        "\n",
        "8. **stays_in_weekend_nights** : *Number of weekend nights (Saturday or Sunday) the guest stayed or booked to stay at the hotel*\n",
        "\n",
        "9. **stays_in_week_nights** : *Number of week nights (Monday to Friday) the guest stayed or booked to stay at the hotel*\n",
        "\n",
        "10. **adults** : *Number of adults*\n",
        "\n",
        "11. **children** : *Number of children*\n",
        "\n",
        "12. **babies** : *Number of babies*\n",
        "\n",
        "13. **meal** : *Type of meal booked. Categories are presented in standard hospitality meal packages:*\n",
        "\n",
        "14. **country** : *Country of origin.`*\n",
        "\n",
        "15. **market_segment** : *Market segment designation. In categories, the term “TA” means “Travel Agents” and “TO” means “Tour Operators”*\n",
        "\n",
        "16. **distribution_channel** : *Booking distribution channel. The term “TA” means “Travel Agents” and “TO” means “Tour Operators”*\n",
        "\n",
        "17. **is_repeated_guest** : *Value indicating if the booking name was from a repeated guest (1) or not (0)*\n",
        "\n",
        "18. **previous_cancellations** : *Number of previous bookings that were cancelled by the customer prior to the current booking*\n",
        "\n",
        "19. **previous_bookings_not_canceled** : *Number of previous bookings not cancelled by the customer prior to the current booking*\n",
        "\n",
        "20. **reserved_room_type** : *Code of room type reserved. Code is presented instead of designation for anonymity reasons.*\n",
        "\n",
        "21. **assigned_room_type** : *Code for the type of room assigned to the booking.* \n",
        "\n",
        "22. **booking_changes** : *Number of changes/amendments made to the booking from the moment the booking was entered on the PMS until the moment of check-in or cancellation*\n",
        "\n",
        "23. **deposit_type** : *Indication on if the customer made a deposit to guarantee the booking.*\n",
        "\n",
        "24. **agent** : *ID of the travel agency that made the booking*\n",
        "\n",
        "25. **company** : *ID of the company/entity that made the booking or responsible for paying the booking.* \n",
        "\n",
        "26. **days_in_waiting_list** : *Number of days the booking was in the waiting list before it was confirmed to the customer*\n",
        "\n",
        "27. **customer_type** : *Type of booking, assuming one of four categories*\n",
        "\n",
        "\n",
        "28. **adr** : *Average Daily Rate as defined by dividing the sum of all lodging transactions by the total number of staying nights*\n",
        "\n",
        "29. **required_car_parking_spaces** : *Number of car parking spaces required by the customer*\n",
        "\n",
        "30. **total_of_special_requests** :* Number of special requests made by the customer (e.g. twin bed or high floor)*\n",
        "\n",
        "31. **reservation_status** : *Reservation last status, assuming one of three categories*\n",
        "* Canceled – booking was canceled by the customer\n",
        "* Check-Out – customer has checked in but already departed\n",
        "* No-Show – customer did not check-in and did inform the hotel of the reason why\n",
        "\n",
        "\n",
        "\n",
        "\n",
        "\n",
        "32. **reservation_status_date** : *Date at which the last status was set. This variable can be used in conjunction with the ReservationStatus to understand when was the booking canceled or when did the customer checked-out of the hotel*"
      ],
      "metadata": {
        "id": "mF88CwZV9-4R"
      }
    },
    {
      "cell_type": "markdown",
      "source": [
        "### Check Unique Values for each variable."
      ],
      "metadata": {
        "id": "u3PMJOP6ngxN"
      }
    },
    {
      "cell_type": "code",
      "source": [
        "# Check Unique Values for each variable.\n",
        "for elem in df.columns:\n",
        "  print(f'Unique Values present in {elem} are')\n",
        "  print(\"-\"*50)\n",
        "  print(df[elem].unique())\n",
        "  print(\"*\"*100)"
      ],
      "metadata": {
        "id": "zms12Yq5n-jE"
      },
      "execution_count": null,
      "outputs": []
    },
    {
      "cell_type": "markdown",
      "source": [
        "## 3. ***Data Wrangling***"
      ],
      "metadata": {
        "id": "dauF4eBmngu3"
      }
    },
    {
      "cell_type": "markdown",
      "source": [
        "### Data Wrangling Code"
      ],
      "metadata": {
        "id": "bKJF3rekwFvQ"
      }
    },
    {
      "cell_type": "code",
      "source": [
        "# Removing duplicates values present in df\n",
        "df.drop_duplicates(inplace = True)"
      ],
      "metadata": {
        "id": "wk-9a2fpoLcV"
      },
      "execution_count": null,
      "outputs": []
    },
    {
      "cell_type": "code",
      "source": [
        "print(f' Now number of duplicates values are {df.duplicated().sum()}')"
      ],
      "metadata": {
        "id": "ChQxsQLwkMr9"
      },
      "execution_count": null,
      "outputs": []
    },
    {
      "cell_type": "code",
      "source": [
        "# Droping column COMPANY which has 94% NULL Values.\n",
        "df.drop(columns = ['company'],inplace = True)"
      ],
      "metadata": {
        "id": "uRdgPdPUkmGs"
      },
      "execution_count": null,
      "outputs": []
    },
    {
      "cell_type": "code",
      "source": [
        "# Filling NULL Values in column AGENT with 0.\n",
        "# 0 indicates booking was not made by any agent instead done through some other channels.\n",
        "df['agent'].fillna(value = 0 ,inplace = True)"
      ],
      "metadata": {
        "id": "uoShlD_slG8F"
      },
      "execution_count": null,
      "outputs": []
    },
    {
      "cell_type": "code",
      "source": [
        "# Filling NULL Values present in column CHILDREN with 0.\n",
        "# 0 indicates no children present.\n",
        "df['children'].fillna(value = 0,inplace = True)"
      ],
      "metadata": {
        "id": "Tq1M0ZJKnNrd"
      },
      "execution_count": null,
      "outputs": []
    },
    {
      "cell_type": "code",
      "source": [
        "# droppping all those rows in which addtion of of adlults ,children and babies is 0. That simply means  no bookings were made.\n",
        "df = df[df['adults'] + df['children'] + df['babies'] != 0]"
      ],
      "metadata": {
        "id": "44jg7pCJn9zV"
      },
      "execution_count": null,
      "outputs": []
    },
    {
      "cell_type": "code",
      "source": [
        "# Filling NULL Values present in column COUNTRY with Mode \n",
        "# Repacing with mode because data is missing completely at random\n",
        "df['country'] = df['country'].replace(np.NaN,df['country'].mode()[0])"
      ],
      "metadata": {
        "id": "2NJqSzYZr6RY"
      },
      "execution_count": null,
      "outputs": []
    },
    {
      "cell_type": "code",
      "source": [
        "# Extracting categorical columns\n",
        "categorical = list(set(df.columns)-set(df.describe().columns))\n",
        "categorical"
      ],
      "metadata": {
        "id": "AeL8qHvfo9uE"
      },
      "execution_count": null,
      "outputs": []
    },
    {
      "cell_type": "code",
      "source": [
        "# Extracting Numerical columns\n",
        "numerical = list(set(df.columns)-set(categorical))\n",
        "numerical"
      ],
      "metadata": {
        "id": "N7urxswxpPzq"
      },
      "execution_count": null,
      "outputs": []
    },
    {
      "cell_type": "code",
      "source": [
        "df.shape[1]"
      ],
      "metadata": {
        "id": "AY3sf0XcpguV"
      },
      "execution_count": null,
      "outputs": []
    },
    {
      "cell_type": "code",
      "source": [
        "len(categorical) + len(numerical)"
      ],
      "metadata": {
        "id": "EvI8W3gVplnH"
      },
      "execution_count": null,
      "outputs": []
    },
    {
      "cell_type": "code",
      "source": [
        "# Checking the unique values in categorical columns.\n",
        "for elem in categorical:\n",
        "  if elem in ['arrival_date_month','reservation_status_date','country']:\n",
        "    continue\n",
        "  else:\n",
        "    print(f'Unique values in {elem} are {df[elem].unique()}')"
      ],
      "metadata": {
        "id": "fMfvZ6eyp0q5"
      },
      "execution_count": null,
      "outputs": []
    },
    {
      "cell_type": "code",
      "source": [
        "# Now doing some feature construction.\n",
        "df['total_people'] = df['adults'] + df['children'] + df['babies']\n",
        "df['total_stay'] = df['stays_in_week_nights'] + df['stays_in_weekend_nights']"
      ],
      "metadata": {
        "id": "aQ6LDuKPp7d4"
      },
      "execution_count": null,
      "outputs": []
    },
    {
      "cell_type": "code",
      "source": [
        "df.shape"
      ],
      "metadata": {
        "id": "_MaP3G5yqAB5"
      },
      "execution_count": null,
      "outputs": []
    },
    {
      "cell_type": "markdown",
      "source": [
        "### What all manipulations have you done and insights you found?"
      ],
      "metadata": {
        "id": "MSa1f5Uengrz"
      }
    },
    {
      "cell_type": "markdown",
      "source": [
        "####Following Data Manipulation are done:\n",
        "1.Removal of duplicates rows.\n",
        "\n",
        "2.column which have very large number of NULL Values are dropped and impution with appropriate value are done to those features which have considerable amount of NULL Values.\n",
        "\n",
        "3.Separation of categorical and numerical features.\n",
        "\n",
        "4.Feature constuction."
      ],
      "metadata": {
        "id": "LbyXE7I1olp8"
      }
    },
    {
      "cell_type": "markdown",
      "source": [
        "## ***4. Data Vizualization, Storytelling & Experimenting with charts : Understand the relationships between variables***"
      ],
      "metadata": {
        "id": "GF8Ens_Soomf"
      }
    },
    {
      "cell_type": "markdown",
      "source": [
        "##UNIVARIATE ANALYSIS"
      ],
      "metadata": {
        "id": "WUA0dX3uuCuR"
      }
    },
    {
      "cell_type": "markdown",
      "source": [
        "#### Chart - 1"
      ],
      "metadata": {
        "id": "0wOQAZs5pc--"
      }
    },
    {
      "cell_type": "code",
      "source": [
        "# Chart - 1 visualization code\n",
        "colors = ['#ff9999','#66b3ff']\n",
        "df['hotel'].value_counts().plot.pie(explode = [0,0.1],autopct='%1.1f%%',shadow=True, startangle=90,colors = colors,figsize=(12,8),fontsize=15,labels=None)\n",
        "labels = df['hotel'].value_counts().index\n",
        "plt.title('% Distribution of Hotel Preference')\n",
        "plt.legend(bbox_to_anchor=(0.85, 1), loc='upper left', labels=labels)\n",
        "plt.show()"
      ],
      "metadata": {
        "id": "7v_ESjsspbW7"
      },
      "execution_count": null,
      "outputs": []
    },
    {
      "cell_type": "markdown",
      "source": [
        "##### 1. Why did you pick the specific chart?"
      ],
      "metadata": {
        "id": "K5QZ13OEpz2H"
      }
    },
    {
      "cell_type": "markdown",
      "source": [
        "I used pie chart because the selected feature has only two unique values and also it gives percentage wise data distribution which is quite helpful for comparison purpose."
      ],
      "metadata": {
        "id": "XESiWehPqBRc"
      }
    },
    {
      "cell_type": "markdown",
      "source": [
        "##### 2. What is/are the insight(s) found from the chart?"
      ],
      "metadata": {
        "id": "lQ7QKXXCp7Bj"
      }
    },
    {
      "cell_type": "markdown",
      "source": [
        "City hotel has the most number of bookings and it is the most preferred hotel by the visitors."
      ],
      "metadata": {
        "id": "C_j1G7yiqdRP"
      }
    },
    {
      "cell_type": "markdown",
      "source": [
        "##### 3. Will the gained insights help creating a positive business impact? \n",
        "Are there any insights that lead to negative growth? Justify with specific reason."
      ],
      "metadata": {
        "id": "448CDAPjqfQr"
      }
    },
    {
      "cell_type": "markdown",
      "source": [
        "As far as City Hotel is concerned they have a good market share but for Resort Hotel they have to attract more number of guests in order to put  their market share comparable to City Hotel."
      ],
      "metadata": {
        "id": "3cspy4FjqxJW"
      }
    },
    {
      "cell_type": "markdown",
      "source": [
        "#### Chart - 2"
      ],
      "metadata": {
        "id": "KSlN3yHqYklG"
      }
    },
    {
      "cell_type": "code",
      "source": [
        "# Chart - 2 visualization code\n",
        "sns.catplot(data = df,x = 'meal',kind = 'count',aspect = 2.5,height = 9,palette = 'husl')\n",
        "plt.title(\"Preferred Meal Type\")\n",
        "plt.show()"
      ],
      "metadata": {
        "id": "R4YgtaqtYklH"
      },
      "execution_count": null,
      "outputs": []
    },
    {
      "cell_type": "markdown",
      "source": [
        "Types of meal in hotels:\n",
        "* BB - (Bed and Breakfast)\n",
        "* HB- (Half Board)\n",
        "* FB- (Full Board)\n",
        "* SC- (Self Catering)\n",
        "\n"
      ],
      "metadata": {
        "id": "hKCDey2CdV7i"
      }
    },
    {
      "cell_type": "markdown",
      "source": [
        "##### 1. Why did you pick the specific chart?"
      ],
      "metadata": {
        "id": "t6dVpIINYklI"
      }
    },
    {
      "cell_type": "markdown",
      "source": [
        "I have used countplot because it gives the frequency of the item present in a particular column which help us to analyze most frequent data."
      ],
      "metadata": {
        "id": "5aaW0BYyYklI"
      }
    },
    {
      "cell_type": "markdown",
      "source": [
        "##### 2. What is/are the insight(s) found from the chart?"
      ],
      "metadata": {
        "id": "ijmpgYnKYklI"
      }
    },
    {
      "cell_type": "markdown",
      "source": [
        "\n",
        "#####The most preferred meal type by the guests is BB( Bed and Breakfast) \n",
        "#####HB- (Half Board) and SC- (Self Catering) are equally preferred.\n"
      ],
      "metadata": {
        "id": "MeMPs7HBbJbN"
      }
    },
    {
      "cell_type": "markdown",
      "source": [
        "##### 3. Will the gained insights help creating a positive business impact? \n",
        "Are there any insights that lead to negative growth? Justify with specific reason."
      ],
      "metadata": {
        "id": "-JiQyfWJYklI"
      }
    },
    {
      "cell_type": "markdown",
      "source": [
        "#####BB(Bed and Breakfast) is preferred by most number of guests so Hotels must include this."
      ],
      "metadata": {
        "id": "BcBbebzrYklV"
      }
    },
    {
      "cell_type": "markdown",
      "source": [
        "#### Chart - 3"
      ],
      "metadata": {
        "id": "EM7whBJCYoAo"
      }
    },
    {
      "cell_type": "code",
      "source": [
        "df['country'].nunique()"
      ],
      "metadata": {
        "id": "L55q5i0jdfab"
      },
      "execution_count": null,
      "outputs": []
    },
    {
      "cell_type": "code",
      "source": [
        "# Chart - 3 visualization code\n",
        "# plotting top 20 where the most of the guest belongs\n",
        "plt.figure(figsize = (15,6))\n",
        "df['country'].value_counts()[:20].plot(kind = 'bar')\n",
        "plt.title('Country Wise Visitors')\n",
        "plt.show()"
      ],
      "metadata": {
        "id": "t6GMdE67YoAp"
      },
      "execution_count": null,
      "outputs": []
    },
    {
      "cell_type": "markdown",
      "source": [
        "##### 1. Why did you pick the specific chart?"
      ],
      "metadata": {
        "id": "fge-S5ZAYoAp"
      }
    },
    {
      "cell_type": "markdown",
      "source": [
        "Bar chat is useful to compare if the number of variables are more also we have categorical data on x-axis and numerical data on y-axis,so bar chart is most suited."
      ],
      "metadata": {
        "id": "5dBItgRVYoAp"
      }
    },
    {
      "cell_type": "markdown",
      "source": [
        "##### 2. What is/are the insight(s) found from the chart?"
      ],
      "metadata": {
        "id": "85gYPyotYoAp"
      }
    },
    {
      "cell_type": "markdown",
      "source": [
        "Most visitors are from Portugal(PRT) more than 25000 followed by United Kingdom(GBR) around 10000.\n",
        "\n",
        "PRT- Portugal\n",
        "\n",
        "GBR- United Kingdom\n",
        "\n",
        "FRA- France\n",
        "\n",
        "ESP- Spain\n",
        "\n",
        "DEU - Germany\n",
        "\n",
        "ITA -Itlay\n",
        "\n",
        "IRL - Ireland\n",
        "\n",
        "BEL -Belgium\n",
        "\n",
        "BRA -Brazil\n",
        "\n",
        "NLD-Netherlands\n",
        "\n",
        "USA-United States\n",
        "\n",
        "CHE-Switzerland\n",
        "\n",
        "CN-China\n",
        "\n",
        "AUT-Austria\n",
        "\n",
        "SWE-Sweden\n",
        "\n",
        "CHN-China\n",
        "\n",
        "POL-Poland\n",
        "\n",
        "RUS-Russia\n",
        "\n",
        "NOR-Norway\n",
        "\n",
        "ROU-Romania\n",
        "\n",
        "\n",
        "\n",
        "\n"
      ],
      "metadata": {
        "id": "4jstXR6OYoAp"
      }
    },
    {
      "cell_type": "markdown",
      "source": [
        "##### 3. Will the gained insights help creating a positive business impact? \n",
        "Are there any insights that lead to negative growth? Justify with specific reason."
      ],
      "metadata": {
        "id": "RoGjAbkUYoAp"
      }
    },
    {
      "cell_type": "markdown",
      "source": [
        "Hotel industry must try to attract guest from the country which are at lower positions in the above chart."
      ],
      "metadata": {
        "id": "zfJ8IqMcYoAp"
      }
    },
    {
      "cell_type": "markdown",
      "source": [
        "#### Chart - 4"
      ],
      "metadata": {
        "id": "4Of9eVA-YrdM"
      }
    },
    {
      "cell_type": "code",
      "source": [
        "df['market_segment'].unique()"
      ],
      "metadata": {
        "id": "CKyv8TQ5K8f0"
      },
      "execution_count": null,
      "outputs": []
    },
    {
      "cell_type": "code",
      "source": [
        "prefer_dist_channel = df['distribution_channel'].value_counts().reset_index().rename(columns = {'index':'distribution_channel','distribution_channel':'counts'})\n",
        "#adding percentage columns to the distribution_channel_df.\n",
        "prefer_dist_channel['count_percent'] = round(prefer_dist_channel['counts']*100/len(df),2)\n",
        "prefer_dist_channel"
      ],
      "metadata": {
        "id": "NCrqWQGRPeF3"
      },
      "execution_count": null,
      "outputs": []
    },
    {
      "cell_type": "code",
      "source": [
        "# Chart - 4 visualization code\n",
        "# Creating labels\n",
        "labels = prefer_dist_channel['distribution_channel'].values.tolist()\n",
        "# Creating sizes\n",
        "sizes = prefer_dist_channel['count_percent'].values.tolist()\n",
        "\n",
        "\n",
        "colors = ['#ff9999','#66b3ff','#99ff99','#ffcc99','#ff9900']\n",
        "\n",
        "\n",
        "# creating pie chart\n",
        "prefer_dist_channel['count_percent'].plot.pie(explode=[0.05, 0.05,0.05,0.05,0.05], shadow=True, figsize=(15,8),fontsize=10,labels=None)\n",
        "\n",
        "# setting legends with the percentage values\n",
        "labels = [f'{l}, {s}%' for l, s in zip(labels, sizes)]\n",
        "\n",
        "\n",
        "plt.legend(bbox_to_anchor=(0.85, 1), loc='upper left', labels=labels)\n",
        "\n",
        "plt.title('Used Distribution Channel for Hotel Bookings ')\n",
        "plt.show()\n"
      ],
      "metadata": {
        "id": "irlUoxc8YrdO"
      },
      "execution_count": null,
      "outputs": []
    },
    {
      "cell_type": "markdown",
      "source": [
        "##### 1. Why did you pick the specific chart?"
      ],
      "metadata": {
        "id": "iky9q4vBYrdO"
      }
    },
    {
      "cell_type": "markdown",
      "source": [
        "To make comparison among categorical data in terms of percentage where number of category are less then pie chart is useful."
      ],
      "metadata": {
        "id": "aJRCwT6DYrdO"
      }
    },
    {
      "cell_type": "markdown",
      "source": [
        "##### 2. What is/are the insight(s) found from the chart?"
      ],
      "metadata": {
        "id": "F6T5p64dYrdO"
      }
    },
    {
      "cell_type": "markdown",
      "source": [
        "'TA/TO' is mostly used for booking hotels."
      ],
      "metadata": {
        "id": "Xx8WAJvtYrdO"
      }
    },
    {
      "cell_type": "markdown",
      "source": [
        "#### Chart - 5"
      ],
      "metadata": {
        "id": "bamQiAODYuh1"
      }
    },
    {
      "cell_type": "code",
      "source": [
        "df['reserved_room_type'].unique()"
      ],
      "metadata": {
        "id": "I54psNCVVDZZ"
      },
      "execution_count": null,
      "outputs": []
    },
    {
      "cell_type": "code",
      "source": [
        "# Chart - 5 visualization code\n",
        "sns.catplot(data = df,x = 'reserved_room_type',kind = 'count',height = 11,aspect = 2.5)\n",
        "plt.title('Most Preffered Room Types')\n",
        "plt.show()"
      ],
      "metadata": {
        "id": "TIJwrbroYuh3"
      },
      "execution_count": null,
      "outputs": []
    },
    {
      "cell_type": "markdown",
      "source": [
        "##### 2. What is/are the insight(s) found from the chart?"
      ],
      "metadata": {
        "id": "GwzvFGzlYuh3"
      }
    },
    {
      "cell_type": "markdown",
      "source": [
        "Most Prefered Room type is \"A\""
      ],
      "metadata": {
        "id": "uyqkiB8YYuh3"
      }
    },
    {
      "cell_type": "markdown",
      "source": [
        "##### 3. Will the gained insights help creating a positive business impact? \n",
        "Are there any insights that lead to negative growth? Justify with specific reason."
      ],
      "metadata": {
        "id": "qYpmQ266Yuh3"
      }
    },
    {
      "cell_type": "markdown",
      "source": [
        "Hotels should have more number of rooms having type \"A\" because this room type is mostly preferred by guests. "
      ],
      "metadata": {
        "id": "_WtzZ_hCYuh4"
      }
    },
    {
      "cell_type": "markdown",
      "source": [
        "#### Chart - 6"
      ],
      "metadata": {
        "id": "OH-pJp9IphqM"
      }
    },
    {
      "cell_type": "code",
      "source": [
        "df['customer_type'].unique()"
      ],
      "metadata": {
        "id": "R0MNMI2Abrcb"
      },
      "execution_count": null,
      "outputs": []
    },
    {
      "cell_type": "code",
      "source": [
        "# Chart - 6 visualization code\n",
        "sns.catplot(data = df,x = 'customer_type',kind = 'count',height = 9,aspect = 1.5)\n",
        "plt.title('Bar plot of customer_type')\n",
        "plt.show()"
      ],
      "metadata": {
        "id": "kuRf4wtuphqN"
      },
      "execution_count": null,
      "outputs": []
    },
    {
      "cell_type": "markdown",
      "source": [
        "**1. Contract** \n",
        ">when the booking has an allotment or other type of contract associated to it\n",
        "\n",
        "**2. Group**\n",
        "> when the booking is associated to a group\n",
        "\n",
        "**3. Transient**\n",
        ">when the booking is not part of a group or contract, and is not associated to other transient booking\n",
        "\n",
        "**4. Transient-party**\n",
        ">when the booking is transient, but is associated to at least other transient booking\n",
        "\n"
      ],
      "metadata": {
        "id": "_lFEotEsdNR7"
      }
    },
    {
      "cell_type": "markdown",
      "source": [
        "##### 2. What is/are the insight(s) found from the chart?"
      ],
      "metadata": {
        "id": "_ouA3fa0phqN"
      }
    },
    {
      "cell_type": "markdown",
      "source": [
        "Transient Customer type is maximum While Group is minimum."
      ],
      "metadata": {
        "id": "VECbqPI7phqN"
      }
    },
    {
      "cell_type": "markdown",
      "source": [
        "#### Chart - 7"
      ],
      "metadata": {
        "id": "PIIx-8_IphqN"
      }
    },
    {
      "cell_type": "code",
      "source": [
        "df['required_car_parking_spaces'].unique()"
      ],
      "metadata": {
        "id": "PW5CHEFpiwHe"
      },
      "execution_count": null,
      "outputs": []
    },
    {
      "cell_type": "code",
      "source": [
        "# Chart - 7 visualization code\n",
        "sns.catplot(data = df,x = 'required_car_parking_spaces',kind = 'count',height = 6,aspect = 1.5)\n",
        "plt.title('Bar plot of Car Parking Space')\n",
        "plt.show()"
      ],
      "metadata": {
        "id": "lqAIGUfyphqO"
      },
      "execution_count": null,
      "outputs": []
    },
    {
      "cell_type": "markdown",
      "source": [
        "##### 2. What is/are the insight(s) found from the chart?"
      ],
      "metadata": {
        "id": "r2jJGEOYphqO"
      }
    },
    {
      "cell_type": "markdown",
      "source": [
        "Most guest does not need parking space at all only few guest asked for parking space of one car."
      ],
      "metadata": {
        "id": "Po6ZPi4hphqO"
      }
    },
    {
      "cell_type": "markdown",
      "source": [
        "##### 3. Will the gained insights help creating a positive business impact? \n",
        "Are there any insights that lead to negative growth? Justify with specific reason."
      ],
      "metadata": {
        "id": "b0JNsNcRphqO"
      }
    },
    {
      "cell_type": "markdown",
      "source": [
        "Hotels that does not have parking space more or less has no affect on their business."
      ],
      "metadata": {
        "id": "xvSq8iUTphqO"
      }
    },
    {
      "cell_type": "markdown",
      "source": [
        "#### Chart - 8"
      ],
      "metadata": {
        "id": "BZR9WyysphqO"
      }
    },
    {
      "cell_type": "code",
      "source": [
        "df['booking_changes'].unique()"
      ],
      "metadata": {
        "id": "E4K1YrfhnVc1"
      },
      "execution_count": null,
      "outputs": []
    },
    {
      "cell_type": "code",
      "source": [
        "booking_change_df=df['booking_changes'].value_counts().reset_index().rename(columns = {'index':'number_booking_change','booking_changes':'counts'})\n",
        "booking_change_df['counts_percent'] = booking_change_df['counts']*100/len(df)\n",
        "booking_change_df"
      ],
      "metadata": {
        "id": "MuchbYNunc7u"
      },
      "execution_count": null,
      "outputs": []
    },
    {
      "cell_type": "code",
      "source": [
        "# Chart - 8 visualization code\n",
        "plt.figure(figsize = (12,8))\n",
        "sns.barplot(x = booking_change_df['number_booking_change'], y = booking_change_df['counts_percent'])\n",
        "plt.title(\"% of Booking change\")\n",
        "plt.show()\n"
      ],
      "metadata": {
        "id": "TdPTWpAVphqO"
      },
      "execution_count": null,
      "outputs": []
    },
    {
      "cell_type": "markdown",
      "source": [
        "### 0 Means no changes made in the booking\n",
        "### 1 Means 1 changes made in the booking\n",
        "### 2 Means 2 changes made in the booking & So on."
      ],
      "metadata": {
        "id": "uuSNPfL_oSOa"
      }
    },
    {
      "cell_type": "markdown",
      "source": [
        "##### 2. What is/are the insight(s) found from the chart?\n"
      ],
      "metadata": {
        "id": "eZrbJ2SmphqO"
      }
    },
    {
      "cell_type": "markdown",
      "source": [
        "Most of the guests around 80% does't made any changes to the booking and around 12% of guest made one changes in their booking."
      ],
      "metadata": {
        "id": "mZtgC_hjphqO"
      }
    },
    {
      "cell_type": "markdown",
      "source": [
        "#BIVARIATE ANALYSIS"
      ],
      "metadata": {
        "id": "GJz2bBXTq57L"
      }
    },
    {
      "cell_type": "markdown",
      "source": [
        "#### Chart - 9"
      ],
      "metadata": {
        "id": "YJ55k-q6phqO"
      }
    },
    {
      "cell_type": "code",
      "source": [
        "# Creating a dataframe where the booking is canceled by the guests.\n",
        "canceled_df = df[df['is_canceled']==1][['hotel','is_canceled']]\n",
        "canceled_df.head()"
      ],
      "metadata": {
        "id": "EY4xt6JL0lf0"
      },
      "execution_count": null,
      "outputs": []
    },
    {
      "cell_type": "code",
      "source": [
        "# Checking How many times the hotels were cancelled.\n",
        "canceled_count = canceled_df.groupby('hotel')['is_canceled'].sum().reset_index().rename(columns = {'is_canceled':'cancellation_count'})\n",
        "canceled_count"
      ],
      "metadata": {
        "id": "2wKtDH_1gO5b"
      },
      "execution_count": null,
      "outputs": []
    },
    {
      "cell_type": "code",
      "source": [
        "# Checking How many times the respective hotel is booked.\n",
        "total_booking = df.groupby('hotel')['hotel'].agg({'count'}).reset_index().rename(columns = {'count':'total_booking_counts'})\n",
        "total_booking"
      ],
      "metadata": {
        "id": "wwS_P9C7gYbL"
      },
      "execution_count": null,
      "outputs": []
    },
    {
      "cell_type": "code",
      "source": [
        "# Now concatenating the above two dataframes.\n",
        "concatenated_df = pd.merge(canceled_count,total_booking)\n",
        "concatenated_df"
      ],
      "metadata": {
        "id": "t_Dfh6VVgg8e"
      },
      "execution_count": null,
      "outputs": []
    },
    {
      "cell_type": "code",
      "source": [
        "# Now adding percent_canceled feature in concatenated_df\n",
        "concatenated_df['percent_canceled'] = (concatenated_df['cancellation_count']*100)/concatenated_df['total_booking_counts']\n",
        "concatenated_df"
      ],
      "metadata": {
        "id": "sEp1oe1Jgneh"
      },
      "execution_count": null,
      "outputs": []
    },
    {
      "cell_type": "code",
      "source": [
        "df.shape"
      ],
      "metadata": {
        "id": "NIyvcEJcnjEo"
      },
      "execution_count": null,
      "outputs": []
    },
    {
      "cell_type": "code",
      "source": [
        "# Chart - 9 visualization code\n",
        "sns.catplot(data = concatenated_df, x = 'hotel', y = 'percent_canceled', kind = 'bar' ,height = 7 , aspect = 1.5)\n",
        "plt.title(\"Percentage of booking cancellation\")\n",
        "plt.show()"
      ],
      "metadata": {
        "id": "B2aS4O1ophqO"
      },
      "execution_count": null,
      "outputs": []
    },
    {
      "cell_type": "code",
      "source": [
        "# Overall Cncellation vs Non cancellation\n",
        "colors = ['#ff9999','#66b3ff']\n",
        "df['is_canceled'].value_counts().plot.pie(explode = [0,0.1],autopct='%1.1f%%',shadow=True, startangle=90,colors = colors,figsize=(12,8),fontsize=15,labels=None)\n",
        "labels = df['is_canceled'].value_counts().index\n",
        "plt.title('Cancellation vs Non_cancellation')\n",
        "plt.legend(bbox_to_anchor=(0.85, 1), loc='upper left', labels=labels)\n",
        "plt.show()"
      ],
      "metadata": {
        "id": "uTNe5VLzmDws"
      },
      "execution_count": null,
      "outputs": []
    },
    {
      "cell_type": "markdown",
      "source": [
        "### 0 = Not Cancelled\n",
        "### 1 = Cancelled"
      ],
      "metadata": {
        "id": "yfODVVdA8kwL"
      }
    },
    {
      "cell_type": "markdown",
      "source": [
        "##### 2. What is/are the insight(s) found from the chart?"
      ],
      "metadata": {
        "id": "OVtJsKN_phqQ"
      }
    },
    {
      "cell_type": "markdown",
      "source": [
        "Total 27.5% of booking were cancelled out of which 30% of cancellation comes from City Hotel and 24% of cancellation comes from Resort Hotel.\n",
        "So,City Hotel has higher rate of cancellation. "
      ],
      "metadata": {
        "id": "ngGi97qjphqQ"
      }
    },
    {
      "cell_type": "markdown",
      "source": [
        "#### Chart - 10"
      ],
      "metadata": {
        "id": "U2RJ9gkRphqQ"
      }
    },
    {
      "cell_type": "code",
      "source": [
        "# Chart - 10 visualization code\n",
        "plt.figure(figsize = (10,8))\n",
        "sns.barplot(x = df.groupby('hotel')['lead_time'].mean().index,y = df.groupby('hotel')['lead_time'].mean().values)\n",
        "plt.title(\"Avg ADR of each Hotel type\")\n",
        "plt.show()"
      ],
      "metadata": {
        "id": "GM7a4YP4phqQ"
      },
      "execution_count": null,
      "outputs": []
    },
    {
      "cell_type": "markdown",
      "source": [
        "###Booking or Reservation Lead Time is the period of time (most typically measured in calendar days) between when a guest makes the reservation and the actual check-in/arrival date."
      ],
      "metadata": {
        "id": "C-YLQqlr_zZE"
      }
    },
    {
      "cell_type": "markdown",
      "source": [
        "##### 2. What is/are the insight(s) found from the chart?"
      ],
      "metadata": {
        "id": "tgIPom80phqQ"
      }
    },
    {
      "cell_type": "markdown",
      "source": [
        "Resort hotel has slightly higher lead time in comparison to City hotel."
      ],
      "metadata": {
        "id": "Qp13pnNzphqQ"
      }
    },
    {
      "cell_type": "markdown",
      "source": [
        "#### Chart - 11"
      ],
      "metadata": {
        "id": "x-EpHcCOp1ci"
      }
    },
    {
      "cell_type": "code",
      "source": [
        "df['arrival_date_year'].unique()"
      ],
      "metadata": {
        "id": "KT46Hs-nN-HC"
      },
      "execution_count": null,
      "outputs": []
    },
    {
      "cell_type": "code",
      "source": [
        "# Chart - 11 visualization code\n",
        "sns.catplot(data = df,x = 'arrival_date_year',kind = 'count',height = 11,aspect = 2.5)\n",
        "plt.title('Number of bookings across Year')\n",
        "plt.show()\n",
        "\n",
        "\n",
        "sns.catplot(data = df,x = 'arrival_date_year',kind = 'count',hue = 'hotel',height = 11,aspect = 2.5)\n",
        "plt.title('Number of bookings across Year')\n",
        "plt.show()"
      ],
      "metadata": {
        "id": "mAQTIvtqp1cj"
      },
      "execution_count": null,
      "outputs": []
    },
    {
      "cell_type": "markdown",
      "source": [
        "##### 2. What is/are the insight(s) found from the chart?"
      ],
      "metadata": {
        "id": "8zGJKyg5p1ck"
      }
    },
    {
      "cell_type": "markdown",
      "source": [
        "1.2016 had been the best year for these hotels in terms of booking\n",
        "\n",
        "2.Year 2015 City Hotel and Resort Hotel had excatly same number of bookings but after 2015 City Hotel has more number of bookings.\n",
        "\n",
        "3.Year 2016 City Hotel had more than 250000 bookings while Resort Hotel has around 15000 bookings whereas in 2017 City Hotel had around 20000 bookings while Resort Hotel had around 12000 bookings."
      ],
      "metadata": {
        "id": "ZYdMsrqVp1ck"
      }
    },
    {
      "cell_type": "markdown",
      "source": [
        "##### 3. Will the gained insights help creating a positive business impact? \n",
        "Are there any insights that lead to negative growth? Justify with specific reason."
      ],
      "metadata": {
        "id": "PVzmfK_Ep1ck"
      }
    },
    {
      "cell_type": "markdown",
      "source": [
        "Resort Hotel which has around same number booking as City Hotel in 2015 but after 2015 Resort hotel had less booking in comparison with City Hotel although the Resort hotel had also Positive rate of change in terms of booking. "
      ],
      "metadata": {
        "id": "druuKYZpp1ck"
      }
    },
    {
      "cell_type": "markdown",
      "source": [
        "#### Chart - 12"
      ],
      "metadata": {
        "id": "n3dbpmDWp1ck"
      }
    },
    {
      "cell_type": "code",
      "source": [
        "# Applying groupby on month & Hotels so that we can find total number of bookings in each month from each hotel\n",
        "month_df = df.groupby(['arrival_date_month','hotel']).size().reset_index().rename(columns = {0:'Bookings'})\n",
        "\n",
        "# Sorting order of month in accordance with calander\n",
        "months = ['January', 'February', 'March', 'April', 'May', 'June', 'July', 'August', 'September', 'October', 'November', 'December']\n",
        "\n",
        "month_df['arrival_date_month'] = pd.Categorical(month_df['arrival_date_month'], categories=months, ordered=True)\n",
        "month_df = month_df.sort_values(by = 'arrival_date_month')\n",
        "month_df"
      ],
      "metadata": {
        "id": "EwTJeHJlXpET"
      },
      "execution_count": null,
      "outputs": []
    },
    {
      "cell_type": "code",
      "source": [
        "# applying groupby on month \n",
        "month_wise_booking = month_df.groupby('arrival_date_month')['Bookings'].sum().reset_index()\n",
        "month_wise_booking"
      ],
      "metadata": {
        "id": "vEQWpbCjg05B"
      },
      "execution_count": null,
      "outputs": []
    },
    {
      "cell_type": "code",
      "source": [
        "# Chart - 12 visualization code\n",
        "sns.set(font_scale=2)\n",
        "sns.relplot(data = month_wise_booking,x = 'arrival_date_month',y = 'Bookings',kind = 'line',height = 11,aspect = 2.5,lw = 4)  # lw = line_width\n",
        "plt.title('Number of bookings across each month')\n",
        "plt.show()\n",
        "\n",
        "sns.relplot(data = month_df,x = 'arrival_date_month',y = 'Bookings',kind = 'line',hue = 'hotel',height = 11,aspect = 2.5,lw = 4) \n",
        "plt.title('Number of bookings across each month')\n",
        "plt.show()"
      ],
      "metadata": {
        "id": "bwevp1tKp1ck"
      },
      "execution_count": null,
      "outputs": []
    },
    {
      "cell_type": "markdown",
      "source": [
        "##### 1. Why did you pick the specific chart?"
      ],
      "metadata": {
        "id": "ylSl6qgtp1ck"
      }
    },
    {
      "cell_type": "markdown",
      "source": [
        "I picked line chart because line chart is best to find the trend available in the data."
      ],
      "metadata": {
        "id": "m2xqNkiQp1ck"
      }
    },
    {
      "cell_type": "markdown",
      "source": [
        "##### 2. What is/are the insight(s) found from the chart?"
      ],
      "metadata": {
        "id": "ZWILFDl5p1ck"
      }
    },
    {
      "cell_type": "markdown",
      "source": [
        "1.July and August months had the most Bookings.\n",
        "\n",
        "2.We can find similar trend in each month in each hotel.If City hotel has positive rate of change then resort hotel has also positive rate of change and if City hotel has negative rate of change then Resort Hotel has also negative rate of change although City Hotel has higher rate of change."
      ],
      "metadata": {
        "id": "x-lUsV2mp1ck"
      }
    },
    {
      "cell_type": "markdown",
      "source": [
        "#### Chart - 13"
      ],
      "metadata": {
        "id": "Ag9LCva-p1cl"
      }
    },
    {
      "cell_type": "code",
      "source": [
        "# Creating a new DataFrame \n",
        "df_1 = df[['hotel','is_repeated_guest']]\n",
        "df_1.head()"
      ],
      "metadata": {
        "id": "LQDp0RV4o9XE"
      },
      "execution_count": null,
      "outputs": []
    },
    {
      "cell_type": "markdown",
      "source": [
        "0-New Guest\n",
        "\n",
        "1-Repeated Guest"
      ],
      "metadata": {
        "id": "pFoRXhegrgBY"
      }
    },
    {
      "cell_type": "code",
      "source": [
        "# applying groupby on hotel & taking sum which will give number of repeated guest.\n",
        "repeat_guest_df = df_1.groupby('hotel').sum().reset_index().rename(columns = {'is_repeated_guest':'repeated guest_booking'})\n",
        "repeat_guest_df\n"
      ],
      "metadata": {
        "id": "VmXKhsiyq5HP"
      },
      "execution_count": null,
      "outputs": []
    },
    {
      "cell_type": "code",
      "source": [
        "# fetching total number of boookings of each hotel\n",
        "total_booking = df.groupby('hotel')['hotel'].agg({'count'}).reset_index().rename(columns = {'count':'total_booking_counts'})\n",
        "total_booking"
      ],
      "metadata": {
        "id": "phU6vX2urQnW"
      },
      "execution_count": null,
      "outputs": []
    },
    {
      "cell_type": "code",
      "source": [
        "# merging above two dataframe\n",
        "merge_df = pd.merge(repeat_guest_df,total_booking,how = 'inner',on = 'hotel')\n",
        "# adding a new column which will show percentage of repeated guest\n",
        "merge_df['% repeated guest'] = merge_df['repeated guest_booking']*100/merge_df['total_booking_counts']\n",
        "merge_df"
      ],
      "metadata": {
        "id": "aylPqDRtsPAZ"
      },
      "execution_count": null,
      "outputs": []
    },
    {
      "cell_type": "code",
      "source": [
        "# Chart - 13 visualization code\n",
        "sns.catplot(data = merge_df,x = 'hotel', y = '% repeated guest',kind = 'bar',aspect = 1.5,height = 7,palette = \"husl\")\n",
        "plt.title('Bar Chart of Repeated guest')\n",
        "plt.show()"
      ],
      "metadata": {
        "id": "EUfxeq9-p1cl"
      },
      "execution_count": null,
      "outputs": []
    },
    {
      "cell_type": "code",
      "source": [
        "# Visualization of overall repeated guests\n",
        "colors = ['#ff9999','#66b3ff']\n",
        "df['is_repeated_guest'].value_counts().plot.pie(explode = [0,0.1],autopct='%1.1f%%',shadow=True, startangle=90,colors = colors,figsize=(12,8),fontsize=15,labels=None)\n",
        "labels = df['is_repeated_guest'].value_counts().index\n",
        "plt.title('% Percentgae (%) of repeated guests')\n",
        "plt.legend(bbox_to_anchor=(0.85, 1), loc='upper left', labels=labels)\n",
        "plt.show()"
      ],
      "metadata": {
        "id": "qGyWTZVgvRGK"
      },
      "execution_count": null,
      "outputs": []
    },
    {
      "cell_type": "markdown",
      "source": [
        "0-New Guest\n",
        "\n",
        "1-Repeated Guest"
      ],
      "metadata": {
        "id": "EIl-GwdJy2a3"
      }
    },
    {
      "cell_type": "markdown",
      "source": [
        "##### 2. What is/are the insight(s) found from the chart?"
      ],
      "metadata": {
        "id": "2cELzS2fp1cl"
      }
    },
    {
      "cell_type": "markdown",
      "source": [
        "Both the hotel has lower retention rate i.e 3.9% in which City hotel has retention rate of 3.11% and Resort hotel has retentionn rate of 5.02%."
      ],
      "metadata": {
        "id": "ozQPc2_Ip1cl"
      }
    },
    {
      "cell_type": "markdown",
      "source": [
        "##### 3. Will the gained insights help creating a positive business impact? \n",
        "Are there any insights that lead to negative growth? Justify with specific reason."
      ],
      "metadata": {
        "id": "3MPXvC8up1cl"
      }
    },
    {
      "cell_type": "markdown",
      "source": [
        "Both the hotel will have to look why their retention rate is too low.They will have to make a strategy so that guest who visit hotel should have come again & again."
      ],
      "metadata": {
        "id": "GL8l1tdLp1cl"
      }
    },
    {
      "cell_type": "markdown",
      "source": [
        "####Chart - 14"
      ],
      "metadata": {
        "id": "-fCSAGGl1NtJ"
      }
    },
    {
      "cell_type": "code",
      "source": [
        "# Applying groupby on arrival_date_month & hotel and evaluating Mean on adr. \n",
        "bookings_by_months_df = df.groupby(['arrival_date_month','hotel'])['adr'].mean().reset_index()\n",
        "\n",
        "#create month list\n",
        "month = ['January', 'February', 'March', 'April', 'May', 'June', 'July', 'August', 'September', 'October', 'November', 'December']\n",
        "\n",
        "# Creating order of the month acording to month list.\n",
        "bookings_by_months_df['arrival_date_month'] = pd.Categorical(bookings_by_months_df['arrival_date_month'],categories = month,ordered= True)\n",
        "\n",
        "# Now framing the dataframe according to the order of months\n",
        "bookings_by_months_df = bookings_by_months_df.sort_values('arrival_date_month')\n",
        "bookings_by_months_df"
      ],
      "metadata": {
        "id": "mWlulMXSxRay"
      },
      "execution_count": null,
      "outputs": []
    },
    {
      "cell_type": "code",
      "source": [
        "# Chart - 14 visualization code\n",
        "sns.relplot(data = bookings_by_months_df,x = 'arrival_date_month' , y = 'adr',hue = 'hotel',kind = 'line',height = 9,aspect = 2.5,lw = 3,palette = \"husl\")\n",
        "plt.title('ADR across each month')\n",
        "plt.show()\n"
      ],
      "metadata": {
        "id": "9uszIXdl1foZ"
      },
      "execution_count": null,
      "outputs": []
    },
    {
      "cell_type": "markdown",
      "source": [
        "##### 2. What is/are the insight(s) found from the chart?"
      ],
      "metadata": {
        "id": "olo2tTBsyhzb"
      }
    },
    {
      "cell_type": "markdown",
      "source": [
        "For Resort Hotel adr starts to increase from May and increases upto July after that is starts to decrease.\n",
        "\n",
        "For City Hotel adr starts to increase fron March and increases upto April after that is starts to decrease."
      ],
      "metadata": {
        "id": "CMD7NEkozUS8"
      }
    },
    {
      "cell_type": "markdown",
      "source": [
        "Chart - 15"
      ],
      "metadata": {
        "id": "Q_lSELC-x3xK"
      }
    },
    {
      "cell_type": "code",
      "source": [
        "# Chart - 15 Visualisation Code\n",
        "temp_df = df.groupby('lead_time')['is_canceled'].describe()\n",
        "sns.relplot(data = temp_df,x = temp_df.index,y = temp_df['mean']*100,kind = 'scatter',aspect =1.5,height = 6)\n",
        "plt.show()"
      ],
      "metadata": {
        "id": "lEuf6FAA6KTR"
      },
      "execution_count": null,
      "outputs": []
    },
    {
      "cell_type": "markdown",
      "source": [
        "##### 1. Why did you pick the specific chart?"
      ],
      "metadata": {
        "id": "DAbdoqOG8_Vd"
      }
    },
    {
      "cell_type": "markdown",
      "source": [
        "Sctter Plot is used to find the relationship between two Numerical Variables."
      ],
      "metadata": {
        "id": "IzqvXndM9Bdn"
      }
    },
    {
      "cell_type": "markdown",
      "source": [
        "##### 2. What is/are the insight(s) found from the chart?"
      ],
      "metadata": {
        "id": "yQiXO19e9X9P"
      }
    },
    {
      "cell_type": "markdown",
      "source": [
        "Lead time has a positive correlation with the Cancellation mean as lead time increases the chances of booking get cancelled also increases."
      ],
      "metadata": {
        "id": "3uRlCKxI9ZMX"
      }
    },
    {
      "cell_type": "markdown",
      "source": [
        "##### 3. Will the gained insights help creating a positive business impact? \n",
        "Are there any insights that lead to negative growth? Justify with specific reason."
      ],
      "metadata": {
        "id": "I9Ql2I4N-FKr"
      }
    },
    {
      "cell_type": "markdown",
      "source": [
        "Hotels must try to decrease lead time to avoid booking cancellation from the guest."
      ],
      "metadata": {
        "id": "snoVytiT-Gl4"
      }
    },
    {
      "cell_type": "markdown",
      "source": [
        "Chart - 16"
      ],
      "metadata": {
        "id": "Di5bZFCW-bAi"
      }
    },
    {
      "cell_type": "code",
      "source": [
        "# Chart 16 Visualisation Code\n",
        "sns.catplot(data = df,x = 'deposit_type',kind = 'count',hue = 'is_canceled',height = 7,aspect = 1.5,palette = \"husl\")\n",
        "plt.show()"
      ],
      "metadata": {
        "id": "15q7UpHe-e25"
      },
      "execution_count": null,
      "outputs": []
    },
    {
      "cell_type": "markdown",
      "source": [
        "##### 2. What is/are the insight(s) found from the chart?"
      ],
      "metadata": {
        "id": "8vFotFPlA1d9"
      }
    },
    {
      "cell_type": "markdown",
      "source": [
        "Around 25% of bookings were cancelled by guests with no deposit. These numbers are huge if the hotels were not able to replace the cancelled bookings in time. So it's obvious that guests who do not pay any deposit while booking are likely to cancel more reservations. Also it is interesting to note that non-refundable deposits had more cancellation than refundable deposits. Logically one would have assumed that refundable deposits have more cancellation as hotel rates are usually higher for refundable deposit type rooms and customers pay more in anticipation of cancellation."
      ],
      "metadata": {
        "id": "Cnk0yUoVA222"
      }
    },
    {
      "cell_type": "markdown",
      "source": [
        "Chart - 17"
      ],
      "metadata": {
        "id": "jwvnF9GcBWqA"
      }
    },
    {
      "cell_type": "code",
      "source": [
        "# Applying groupby on distribution_channel & hotel and taking sum on 'is_canceled'\n",
        "canceled_df = df.groupby(['distribution_channel'])['is_canceled'].sum().reset_index().rename(columns = {'is_canceled':\"total_canceled\"})\n",
        "canceled_df"
      ],
      "metadata": {
        "id": "8xTQEt53EBHZ"
      },
      "execution_count": null,
      "outputs": []
    },
    {
      "cell_type": "code",
      "source": [
        "# Applying groupby on distribution_channel so that we can find number of boooking made through each channel.\n",
        "book_df = df.groupby('distribution_channel').size().reset_index().rename(columns = {0:'bookings'})\n",
        "book_df"
      ],
      "metadata": {
        "id": "qvuYj5_FEwFD"
      },
      "execution_count": null,
      "outputs": []
    },
    {
      "cell_type": "code",
      "source": [
        "# Merging above two dataframe\n",
        "merged_df = pd.merge(canceled_df,book_df,how = 'inner',on = 'distribution_channel')\n",
        "# Adding a column % cancellation\n",
        "merged_df['% cancellation'] = merged_df['total_canceled']*100/merged_df['bookings']\n",
        "merged_df"
      ],
      "metadata": {
        "id": "5Q47oy1gF0Lg"
      },
      "execution_count": null,
      "outputs": []
    },
    {
      "cell_type": "code",
      "source": [
        "# Chart 16 Visualisation Code\n",
        "sns.catplot(data = df,x = 'distribution_channel',kind = 'count',hue = 'is_canceled',height = 11,aspect = 2.5,palette = \"husl\")\n",
        "plt.show()"
      ],
      "metadata": {
        "id": "sSAyddylBZ89"
      },
      "execution_count": null,
      "outputs": []
    },
    {
      "cell_type": "markdown",
      "source": [
        "##### 2. What is/are the insight(s) found from the chart?"
      ],
      "metadata": {
        "id": "9uNsJiINIGMw"
      }
    },
    {
      "cell_type": "markdown",
      "source": [
        "Total 69028 bookins were made by TA/TO in which 21400 were cancelled which is approximately 31%."
      ],
      "metadata": {
        "id": "dvFG17BmIHnZ"
      }
    },
    {
      "cell_type": "markdown",
      "source": [
        "Chart-18"
      ],
      "metadata": {
        "id": "J-44yyCyKHsW"
      }
    },
    {
      "cell_type": "code",
      "source": [
        "# Applying groupby on market_segment & hotel and taking sum on 'is_canceled'.\n",
        "canceled_df_ = df.groupby(['market_segment'])['is_canceled'].sum().reset_index().rename(columns = {'is_canceled':\"total_canceled\"})\n",
        "canceled_df_"
      ],
      "metadata": {
        "id": "a8guKFVvKL8E"
      },
      "execution_count": null,
      "outputs": []
    },
    {
      "cell_type": "code",
      "source": [
        "# Applying groupby on market_segment so that we can find number of boooking made through each channel.\n",
        "book_df_ = df.groupby('market_segment').size().reset_index().rename(columns = {0:'bookings'})\n",
        "book_df_"
      ],
      "metadata": {
        "id": "rXeN5PmPMqXD"
      },
      "execution_count": null,
      "outputs": []
    },
    {
      "cell_type": "code",
      "source": [
        "# Merging above two dataframe\n",
        "merged_df_ = pd.merge(canceled_df_,book_df_,how = 'inner',on = 'market_segment')\n",
        "# Adding a column % cancellation\n",
        "merged_df_['% cancellation'] = merged_df_['total_canceled']*100/merged_df_['bookings']\n",
        "merged_df_"
      ],
      "metadata": {
        "id": "CBquQi4jNENv"
      },
      "execution_count": null,
      "outputs": []
    },
    {
      "cell_type": "code",
      "source": [
        "# Chart 18 Visualisation Code\n",
        "sns.catplot(data = df,x = 'market_segment',kind = 'count',hue = 'is_canceled',height = 11,aspect = 2.5,palette = \"husl\")\n",
        "plt.show()"
      ],
      "metadata": {
        "id": "VXTNRMkdNn-C"
      },
      "execution_count": null,
      "outputs": []
    },
    {
      "cell_type": "markdown",
      "source": [
        "##### 2. What is/are the insight(s) found from the chart?"
      ],
      "metadata": {
        "id": "Fh-lLd5_R0Kc"
      }
    },
    {
      "cell_type": "markdown",
      "source": [
        "Online TA has around 35% cancellation rate followed by Groups which has around 27% Cancellation rate."
      ],
      "metadata": {
        "id": "09sEaXLUR1t8"
      }
    },
    {
      "cell_type": "markdown",
      "source": [
        "#### Chart - 14 - Correlation Heatmap"
      ],
      "metadata": {
        "id": "NC_X3p0fY2L0"
      }
    },
    {
      "cell_type": "code",
      "source": [
        "# Correlation Heatmap visualization code"
      ],
      "metadata": {
        "id": "xyC9zolEZNRQ"
      },
      "execution_count": null,
      "outputs": []
    },
    {
      "cell_type": "markdown",
      "source": [
        "##### 1. Why did you pick the specific chart?"
      ],
      "metadata": {
        "id": "UV0SzAkaZNRQ"
      }
    },
    {
      "cell_type": "markdown",
      "source": [
        "Answer Here."
      ],
      "metadata": {
        "id": "DVPuT8LYZNRQ"
      }
    },
    {
      "cell_type": "markdown",
      "source": [
        "##### 2. What is/are the insight(s) found from the chart?"
      ],
      "metadata": {
        "id": "YPEH6qLeZNRQ"
      }
    },
    {
      "cell_type": "markdown",
      "source": [
        "Answer Here"
      ],
      "metadata": {
        "id": "bfSqtnDqZNRR"
      }
    },
    {
      "cell_type": "markdown",
      "source": [
        "#### Chart - 15 - Pair Plot "
      ],
      "metadata": {
        "id": "q29F0dvdveiT"
      }
    },
    {
      "cell_type": "code",
      "source": [
        "# Pair Plot visualization code"
      ],
      "metadata": {
        "id": "o58-TEIhveiU"
      },
      "execution_count": null,
      "outputs": []
    },
    {
      "cell_type": "markdown",
      "source": [
        "##### 1. Why did you pick the specific chart?"
      ],
      "metadata": {
        "id": "EXh0U9oCveiU"
      }
    },
    {
      "cell_type": "markdown",
      "source": [
        "Answer Here."
      ],
      "metadata": {
        "id": "eMmPjTByveiU"
      }
    },
    {
      "cell_type": "markdown",
      "source": [
        "##### 2. What is/are the insight(s) found from the chart?"
      ],
      "metadata": {
        "id": "22aHeOlLveiV"
      }
    },
    {
      "cell_type": "markdown",
      "source": [
        "Answer Here"
      ],
      "metadata": {
        "id": "uPQ8RGwHveiV"
      }
    },
    {
      "cell_type": "markdown",
      "source": [
        "## **5. Solution to Business Objective**"
      ],
      "metadata": {
        "id": "JcMwzZxoAimU"
      }
    },
    {
      "cell_type": "markdown",
      "source": [
        "#### What do you suggest the client to achieve Business Objective ? \n",
        "Explain Briefly."
      ],
      "metadata": {
        "id": "8G2x9gOozGDZ"
      }
    },
    {
      "cell_type": "markdown",
      "source": [
        "Answer Here."
      ],
      "metadata": {
        "id": "pASKb0qOza21"
      }
    },
    {
      "cell_type": "markdown",
      "source": [
        "# **Conclusion**"
      ],
      "metadata": {
        "id": "gCX9965dhzqZ"
      }
    },
    {
      "cell_type": "markdown",
      "source": [
        "Write the conclusion here."
      ],
      "metadata": {
        "id": "Fjb1IsQkh3yE"
      }
    },
    {
      "cell_type": "markdown",
      "source": [
        "### ***Hurrah! You have successfully completed your EDA Capstone Project !!!***"
      ],
      "metadata": {
        "id": "gIfDvo9L0UH2"
      }
    }
  ]
}